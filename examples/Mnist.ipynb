{
 "cells": [
  {
   "cell_type": "code",
   "execution_count": null,
   "metadata": {
    "collapsed": true
   },
   "outputs": [],
   "source": [
    "%matplotlib inline\n",
    "import chainer as C\n",
    "import numpy as np\n",
    "import seaborn as sns\n",
    "import matplotlib.pyplot as plt\n",
    "import time\n",
    "import pandas as pd"
   ]
  },
  {
   "cell_type": "code",
   "execution_count": null,
   "metadata": {
    "collapsed": false
   },
   "outputs": [],
   "source": [
    "import pickle, gzip\n",
    "with gzip.open('/data/mnist.pkl.gz') as f:\n",
    "    unpick = pickle._Unpickler(f)\n",
    "    unpick.encoding = 'latin1'\n",
    "    train, valid, test = unpick.load()"
   ]
  },
  {
   "cell_type": "code",
   "execution_count": null,
   "metadata": {
    "collapsed": false
   },
   "outputs": [],
   "source": [
    "for i in range(16):\n",
    "    plt.subplot(4, 4, i + 1)\n",
    "    plt.imshow(train[0][i].reshape((28, 28)))\n",
    "    plt.axis('off')"
   ]
  },
  {
   "cell_type": "code",
   "execution_count": null,
   "metadata": {
    "collapsed": false
   },
   "outputs": [],
   "source": [
    "class Network(C.Chain):\n",
    "    def __init__(self):\n",
    "        H = 256\n",
    "        super().__init__(\n",
    "            a=C.links.Linear(784, H),\n",
    "            b=C.links.Linear(H, H),\n",
    "            c=C.links.Linear(H, H),\n",
    "            final=C.links.Linear(H, 10),\n",
    "        )\n",
    "\n",
    "    def __call__(self, x):\n",
    "        w = x\n",
    "        w = C.functions.tanh(self.a(w))\n",
    "        g = C.functions.sigmoid(self.c(w))\n",
    "        w = g * w + (1 - g) * C.functions.tanh(self.b(w))\n",
    "        #w = C.functions.tanh(self.c(w))\n",
    "        return self.final(w)"
   ]
  },
  {
   "cell_type": "code",
   "execution_count": null,
   "metadata": {
    "collapsed": false
   },
   "outputs": [],
   "source": [
    "batch_size = 512\n",
    "\n",
    "network = Network()\n",
    "opt = C.optimizers.Adam()\n",
    "opt.use_cleargrads()\n",
    "opt.setup(network)\n",
    "\n",
    "t0 = time.time()\n",
    "accuracies = []\n",
    "losses = []\n",
    "valid_losses = []\n",
    "valid_accuracies = []\n",
    "for _ in range(100):\n",
    "    for i in range(0, len(train[0]), batch_size):\n",
    "        batch_x = C.Variable(train[0][i:(i + batch_size)])\n",
    "        batch_y = C.Variable(train[1][i:(i + batch_size)].astype(np.int32))\n",
    "\n",
    "        network.cleargrads()\n",
    "        z = network(batch_x)\n",
    "        c = C.functions.softmax_cross_entropy(z, batch_y)\n",
    "        c.backward()\n",
    "        opt.update()\n",
    "        a = 100 * C.functions.accuracy(z, batch_y)\n",
    "\n",
    "        #print(\"Loss = %.2f, Accuracy = %.2f%%\" % (c.data, a.data))\n",
    "        losses.append(float(c.data))\n",
    "        accuracies.append(float(a.data))\n",
    "\n",
    "    valid_data = C.Variable(valid[0])\n",
    "    valid_labels = C.Variable(valid[1].astype(np.int32))\n",
    "    valid_pred = network(valid_data)\n",
    "    valid_loss = C.functions.softmax_cross_entropy(valid_pred, valid_labels)\n",
    "    valid_accuracy = 100 * C.functions.accuracy(valid_pred, valid_labels)\n",
    "    \n",
    "    valid_losses.append(float(valid_loss.data))\n",
    "    valid_accuracies.append(float(valid_accuracy.data))\n",
    "\n",
    "t1 = time.time()\n",
    "\n",
    "print(\"Validation Loss = %.2f\" % (valid_loss.data))\n",
    "print(\"Validation Accuracy = %.2f%%\" % (valid_accuracy.data))\n",
    "print(\"In %.1f s\" % (t1 - t0))"
   ]
  },
  {
   "cell_type": "code",
   "execution_count": null,
   "metadata": {
    "collapsed": false
   },
   "outputs": [],
   "source": [
    "pd.ewma(pd.Series(accuracies), com=100).plot()"
   ]
  },
  {
   "cell_type": "code",
   "execution_count": null,
   "metadata": {
    "collapsed": false
   },
   "outputs": [],
   "source": [
    "pd.ewma(pd.Series(losses), com=100).plot()"
   ]
  },
  {
   "cell_type": "code",
   "execution_count": null,
   "metadata": {
    "collapsed": false
   },
   "outputs": [],
   "source": [
    "pd.Series(valid_losses).plot()"
   ]
  },
  {
   "cell_type": "code",
   "execution_count": null,
   "metadata": {
    "collapsed": false
   },
   "outputs": [],
   "source": [
    "pd.Series(valid_accuracies).plot()"
   ]
  }
 ],
 "metadata": {
  "kernelspec": {
   "display_name": "Python 3",
   "language": "python",
   "name": "python3"
  },
  "language_info": {
   "codemirror_mode": {
    "name": "ipython",
    "version": 3
   },
   "file_extension": ".py",
   "mimetype": "text/x-python",
   "name": "python",
   "nbconvert_exporter": "python",
   "pygments_lexer": "ipython3",
   "version": "3.5.2"
  }
 },
 "nbformat": 4,
 "nbformat_minor": 2
}
